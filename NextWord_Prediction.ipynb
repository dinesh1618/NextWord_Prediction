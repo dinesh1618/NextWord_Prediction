{
  "cells": [
    {
      "cell_type": "code",
      "execution_count": 5,
      "metadata": {
        "id": "XE5g69vSwWHP"
      },
      "outputs": [],
      "source": [
        "import pandas as pd\n",
        "import numpy as np"
      ]
    },
    {
      "cell_type": "code",
      "execution_count": 6,
      "metadata": {
        "id": "zxyMA6Y6wbeB"
      },
      "outputs": [],
      "source": [
        "from tensorflow.keras.preprocessing.text import Tokenizer\n",
        "from tensorflow.keras.preprocessing.sequence import pad_sequences\n",
        "from tensorflow.keras.utils import to_categorical"
      ]
    },
    {
      "cell_type": "code",
      "execution_count": 7,
      "metadata": {
        "id": "dDUo2Y5Rwbgo"
      },
      "outputs": [],
      "source": [
        "from tensorflow.keras.models import Sequential\n",
        "from tensorflow.keras.layers import Embedding, Bidirectional, LSTM, Dense"
      ]
    },
    {
      "cell_type": "code",
      "execution_count": 7,
      "metadata": {
        "id": "P9kYRdywwbjC"
      },
      "outputs": [],
      "source": [
        ""
      ]
    },
    {
      "cell_type": "code",
      "execution_count": 8,
      "metadata": {
        "id": "6SDPMFEnwblh"
      },
      "outputs": [],
      "source": [
        "data = pd.read_csv('/content/spam.csv', encoding=\"ISO-8859-1\")"
      ]
    },
    {
      "cell_type": "code",
      "execution_count": 9,
      "metadata": {
        "colab": {
          "base_uri": "https://localhost:8080/",
          "height": 206
        },
        "id": "IMMqHGsGwbn7",
        "outputId": "dd102d5f-a00d-4842-e4fa-4581607300ce"
      },
      "outputs": [
        {
          "output_type": "execute_result",
          "data": {
            "text/plain": [
              "     v1                                                 v2 Unnamed: 2  \\\n",
              "0   ham  Go until jurong point, crazy.. Available only ...        NaN   \n",
              "1   ham                      Ok lar... Joking wif u oni...        NaN   \n",
              "2  spam  Free entry in 2 a wkly comp to win FA Cup fina...        NaN   \n",
              "3   ham  U dun say so early hor... U c already then say...        NaN   \n",
              "4   ham  Nah I don't think he goes to usf, he lives aro...        NaN   \n",
              "\n",
              "  Unnamed: 3 Unnamed: 4  \n",
              "0        NaN        NaN  \n",
              "1        NaN        NaN  \n",
              "2        NaN        NaN  \n",
              "3        NaN        NaN  \n",
              "4        NaN        NaN  "
            ],
            "text/html": [
              "\n",
              "  <div id=\"df-7c2c0f2b-1bc8-4e8c-a332-3f599849ef73\">\n",
              "    <div class=\"colab-df-container\">\n",
              "      <div>\n",
              "<style scoped>\n",
              "    .dataframe tbody tr th:only-of-type {\n",
              "        vertical-align: middle;\n",
              "    }\n",
              "\n",
              "    .dataframe tbody tr th {\n",
              "        vertical-align: top;\n",
              "    }\n",
              "\n",
              "    .dataframe thead th {\n",
              "        text-align: right;\n",
              "    }\n",
              "</style>\n",
              "<table border=\"1\" class=\"dataframe\">\n",
              "  <thead>\n",
              "    <tr style=\"text-align: right;\">\n",
              "      <th></th>\n",
              "      <th>v1</th>\n",
              "      <th>v2</th>\n",
              "      <th>Unnamed: 2</th>\n",
              "      <th>Unnamed: 3</th>\n",
              "      <th>Unnamed: 4</th>\n",
              "    </tr>\n",
              "  </thead>\n",
              "  <tbody>\n",
              "    <tr>\n",
              "      <th>0</th>\n",
              "      <td>ham</td>\n",
              "      <td>Go until jurong point, crazy.. Available only ...</td>\n",
              "      <td>NaN</td>\n",
              "      <td>NaN</td>\n",
              "      <td>NaN</td>\n",
              "    </tr>\n",
              "    <tr>\n",
              "      <th>1</th>\n",
              "      <td>ham</td>\n",
              "      <td>Ok lar... Joking wif u oni...</td>\n",
              "      <td>NaN</td>\n",
              "      <td>NaN</td>\n",
              "      <td>NaN</td>\n",
              "    </tr>\n",
              "    <tr>\n",
              "      <th>2</th>\n",
              "      <td>spam</td>\n",
              "      <td>Free entry in 2 a wkly comp to win FA Cup fina...</td>\n",
              "      <td>NaN</td>\n",
              "      <td>NaN</td>\n",
              "      <td>NaN</td>\n",
              "    </tr>\n",
              "    <tr>\n",
              "      <th>3</th>\n",
              "      <td>ham</td>\n",
              "      <td>U dun say so early hor... U c already then say...</td>\n",
              "      <td>NaN</td>\n",
              "      <td>NaN</td>\n",
              "      <td>NaN</td>\n",
              "    </tr>\n",
              "    <tr>\n",
              "      <th>4</th>\n",
              "      <td>ham</td>\n",
              "      <td>Nah I don't think he goes to usf, he lives aro...</td>\n",
              "      <td>NaN</td>\n",
              "      <td>NaN</td>\n",
              "      <td>NaN</td>\n",
              "    </tr>\n",
              "  </tbody>\n",
              "</table>\n",
              "</div>\n",
              "      <button class=\"colab-df-convert\" onclick=\"convertToInteractive('df-7c2c0f2b-1bc8-4e8c-a332-3f599849ef73')\"\n",
              "              title=\"Convert this dataframe to an interactive table.\"\n",
              "              style=\"display:none;\">\n",
              "        \n",
              "  <svg xmlns=\"http://www.w3.org/2000/svg\" height=\"24px\"viewBox=\"0 0 24 24\"\n",
              "       width=\"24px\">\n",
              "    <path d=\"M0 0h24v24H0V0z\" fill=\"none\"/>\n",
              "    <path d=\"M18.56 5.44l.94 2.06.94-2.06 2.06-.94-2.06-.94-.94-2.06-.94 2.06-2.06.94zm-11 1L8.5 8.5l.94-2.06 2.06-.94-2.06-.94L8.5 2.5l-.94 2.06-2.06.94zm10 10l.94 2.06.94-2.06 2.06-.94-2.06-.94-.94-2.06-.94 2.06-2.06.94z\"/><path d=\"M17.41 7.96l-1.37-1.37c-.4-.4-.92-.59-1.43-.59-.52 0-1.04.2-1.43.59L10.3 9.45l-7.72 7.72c-.78.78-.78 2.05 0 2.83L4 21.41c.39.39.9.59 1.41.59.51 0 1.02-.2 1.41-.59l7.78-7.78 2.81-2.81c.8-.78.8-2.07 0-2.86zM5.41 20L4 18.59l7.72-7.72 1.47 1.35L5.41 20z\"/>\n",
              "  </svg>\n",
              "      </button>\n",
              "      \n",
              "  <style>\n",
              "    .colab-df-container {\n",
              "      display:flex;\n",
              "      flex-wrap:wrap;\n",
              "      gap: 12px;\n",
              "    }\n",
              "\n",
              "    .colab-df-convert {\n",
              "      background-color: #E8F0FE;\n",
              "      border: none;\n",
              "      border-radius: 50%;\n",
              "      cursor: pointer;\n",
              "      display: none;\n",
              "      fill: #1967D2;\n",
              "      height: 32px;\n",
              "      padding: 0 0 0 0;\n",
              "      width: 32px;\n",
              "    }\n",
              "\n",
              "    .colab-df-convert:hover {\n",
              "      background-color: #E2EBFA;\n",
              "      box-shadow: 0px 1px 2px rgba(60, 64, 67, 0.3), 0px 1px 3px 1px rgba(60, 64, 67, 0.15);\n",
              "      fill: #174EA6;\n",
              "    }\n",
              "\n",
              "    [theme=dark] .colab-df-convert {\n",
              "      background-color: #3B4455;\n",
              "      fill: #D2E3FC;\n",
              "    }\n",
              "\n",
              "    [theme=dark] .colab-df-convert:hover {\n",
              "      background-color: #434B5C;\n",
              "      box-shadow: 0px 1px 3px 1px rgba(0, 0, 0, 0.15);\n",
              "      filter: drop-shadow(0px 1px 2px rgba(0, 0, 0, 0.3));\n",
              "      fill: #FFFFFF;\n",
              "    }\n",
              "  </style>\n",
              "\n",
              "      <script>\n",
              "        const buttonEl =\n",
              "          document.querySelector('#df-7c2c0f2b-1bc8-4e8c-a332-3f599849ef73 button.colab-df-convert');\n",
              "        buttonEl.style.display =\n",
              "          google.colab.kernel.accessAllowed ? 'block' : 'none';\n",
              "\n",
              "        async function convertToInteractive(key) {\n",
              "          const element = document.querySelector('#df-7c2c0f2b-1bc8-4e8c-a332-3f599849ef73');\n",
              "          const dataTable =\n",
              "            await google.colab.kernel.invokeFunction('convertToInteractive',\n",
              "                                                     [key], {});\n",
              "          if (!dataTable) return;\n",
              "\n",
              "          const docLinkHtml = 'Like what you see? Visit the ' +\n",
              "            '<a target=\"_blank\" href=https://colab.research.google.com/notebooks/data_table.ipynb>data table notebook</a>'\n",
              "            + ' to learn more about interactive tables.';\n",
              "          element.innerHTML = '';\n",
              "          dataTable['output_type'] = 'display_data';\n",
              "          await google.colab.output.renderOutput(dataTable, element);\n",
              "          const docLink = document.createElement('div');\n",
              "          docLink.innerHTML = docLinkHtml;\n",
              "          element.appendChild(docLink);\n",
              "        }\n",
              "      </script>\n",
              "    </div>\n",
              "  </div>\n",
              "  "
            ]
          },
          "metadata": {},
          "execution_count": 9
        }
      ],
      "source": [
        "data.head()"
      ]
    },
    {
      "cell_type": "code",
      "execution_count": 10,
      "metadata": {
        "colab": {
          "base_uri": "https://localhost:8080/"
        },
        "id": "4Y3uGqTvwbqZ",
        "outputId": "fea1e2d2-36ae-4123-816a-47598c0a0e07"
      },
      "outputs": [
        {
          "output_type": "execute_result",
          "data": {
            "text/plain": [
              "(5572, 5)"
            ]
          },
          "metadata": {},
          "execution_count": 10
        }
      ],
      "source": [
        "data.shape"
      ]
    },
    {
      "cell_type": "code",
      "execution_count": 11,
      "metadata": {
        "id": "p143bofgwbs-"
      },
      "outputs": [],
      "source": [
        "data.rename({\"v2\": \"Text\"}, axis=1, inplace=True)"
      ]
    },
    {
      "cell_type": "code",
      "execution_count": 12,
      "metadata": {
        "colab": {
          "base_uri": "https://localhost:8080/",
          "height": 206
        },
        "id": "JtWo_p8rxLy3",
        "outputId": "768171c6-756d-43cc-fe70-c739c0f8c055"
      },
      "outputs": [
        {
          "output_type": "execute_result",
          "data": {
            "text/plain": [
              "     v1                                               Text Unnamed: 2  \\\n",
              "0   ham  Go until jurong point, crazy.. Available only ...        NaN   \n",
              "1   ham                      Ok lar... Joking wif u oni...        NaN   \n",
              "2  spam  Free entry in 2 a wkly comp to win FA Cup fina...        NaN   \n",
              "3   ham  U dun say so early hor... U c already then say...        NaN   \n",
              "4   ham  Nah I don't think he goes to usf, he lives aro...        NaN   \n",
              "\n",
              "  Unnamed: 3 Unnamed: 4  \n",
              "0        NaN        NaN  \n",
              "1        NaN        NaN  \n",
              "2        NaN        NaN  \n",
              "3        NaN        NaN  \n",
              "4        NaN        NaN  "
            ],
            "text/html": [
              "\n",
              "  <div id=\"df-e1ac99cb-c55b-40ad-89a6-45ec66941876\">\n",
              "    <div class=\"colab-df-container\">\n",
              "      <div>\n",
              "<style scoped>\n",
              "    .dataframe tbody tr th:only-of-type {\n",
              "        vertical-align: middle;\n",
              "    }\n",
              "\n",
              "    .dataframe tbody tr th {\n",
              "        vertical-align: top;\n",
              "    }\n",
              "\n",
              "    .dataframe thead th {\n",
              "        text-align: right;\n",
              "    }\n",
              "</style>\n",
              "<table border=\"1\" class=\"dataframe\">\n",
              "  <thead>\n",
              "    <tr style=\"text-align: right;\">\n",
              "      <th></th>\n",
              "      <th>v1</th>\n",
              "      <th>Text</th>\n",
              "      <th>Unnamed: 2</th>\n",
              "      <th>Unnamed: 3</th>\n",
              "      <th>Unnamed: 4</th>\n",
              "    </tr>\n",
              "  </thead>\n",
              "  <tbody>\n",
              "    <tr>\n",
              "      <th>0</th>\n",
              "      <td>ham</td>\n",
              "      <td>Go until jurong point, crazy.. Available only ...</td>\n",
              "      <td>NaN</td>\n",
              "      <td>NaN</td>\n",
              "      <td>NaN</td>\n",
              "    </tr>\n",
              "    <tr>\n",
              "      <th>1</th>\n",
              "      <td>ham</td>\n",
              "      <td>Ok lar... Joking wif u oni...</td>\n",
              "      <td>NaN</td>\n",
              "      <td>NaN</td>\n",
              "      <td>NaN</td>\n",
              "    </tr>\n",
              "    <tr>\n",
              "      <th>2</th>\n",
              "      <td>spam</td>\n",
              "      <td>Free entry in 2 a wkly comp to win FA Cup fina...</td>\n",
              "      <td>NaN</td>\n",
              "      <td>NaN</td>\n",
              "      <td>NaN</td>\n",
              "    </tr>\n",
              "    <tr>\n",
              "      <th>3</th>\n",
              "      <td>ham</td>\n",
              "      <td>U dun say so early hor... U c already then say...</td>\n",
              "      <td>NaN</td>\n",
              "      <td>NaN</td>\n",
              "      <td>NaN</td>\n",
              "    </tr>\n",
              "    <tr>\n",
              "      <th>4</th>\n",
              "      <td>ham</td>\n",
              "      <td>Nah I don't think he goes to usf, he lives aro...</td>\n",
              "      <td>NaN</td>\n",
              "      <td>NaN</td>\n",
              "      <td>NaN</td>\n",
              "    </tr>\n",
              "  </tbody>\n",
              "</table>\n",
              "</div>\n",
              "      <button class=\"colab-df-convert\" onclick=\"convertToInteractive('df-e1ac99cb-c55b-40ad-89a6-45ec66941876')\"\n",
              "              title=\"Convert this dataframe to an interactive table.\"\n",
              "              style=\"display:none;\">\n",
              "        \n",
              "  <svg xmlns=\"http://www.w3.org/2000/svg\" height=\"24px\"viewBox=\"0 0 24 24\"\n",
              "       width=\"24px\">\n",
              "    <path d=\"M0 0h24v24H0V0z\" fill=\"none\"/>\n",
              "    <path d=\"M18.56 5.44l.94 2.06.94-2.06 2.06-.94-2.06-.94-.94-2.06-.94 2.06-2.06.94zm-11 1L8.5 8.5l.94-2.06 2.06-.94-2.06-.94L8.5 2.5l-.94 2.06-2.06.94zm10 10l.94 2.06.94-2.06 2.06-.94-2.06-.94-.94-2.06-.94 2.06-2.06.94z\"/><path d=\"M17.41 7.96l-1.37-1.37c-.4-.4-.92-.59-1.43-.59-.52 0-1.04.2-1.43.59L10.3 9.45l-7.72 7.72c-.78.78-.78 2.05 0 2.83L4 21.41c.39.39.9.59 1.41.59.51 0 1.02-.2 1.41-.59l7.78-7.78 2.81-2.81c.8-.78.8-2.07 0-2.86zM5.41 20L4 18.59l7.72-7.72 1.47 1.35L5.41 20z\"/>\n",
              "  </svg>\n",
              "      </button>\n",
              "      \n",
              "  <style>\n",
              "    .colab-df-container {\n",
              "      display:flex;\n",
              "      flex-wrap:wrap;\n",
              "      gap: 12px;\n",
              "    }\n",
              "\n",
              "    .colab-df-convert {\n",
              "      background-color: #E8F0FE;\n",
              "      border: none;\n",
              "      border-radius: 50%;\n",
              "      cursor: pointer;\n",
              "      display: none;\n",
              "      fill: #1967D2;\n",
              "      height: 32px;\n",
              "      padding: 0 0 0 0;\n",
              "      width: 32px;\n",
              "    }\n",
              "\n",
              "    .colab-df-convert:hover {\n",
              "      background-color: #E2EBFA;\n",
              "      box-shadow: 0px 1px 2px rgba(60, 64, 67, 0.3), 0px 1px 3px 1px rgba(60, 64, 67, 0.15);\n",
              "      fill: #174EA6;\n",
              "    }\n",
              "\n",
              "    [theme=dark] .colab-df-convert {\n",
              "      background-color: #3B4455;\n",
              "      fill: #D2E3FC;\n",
              "    }\n",
              "\n",
              "    [theme=dark] .colab-df-convert:hover {\n",
              "      background-color: #434B5C;\n",
              "      box-shadow: 0px 1px 3px 1px rgba(0, 0, 0, 0.15);\n",
              "      filter: drop-shadow(0px 1px 2px rgba(0, 0, 0, 0.3));\n",
              "      fill: #FFFFFF;\n",
              "    }\n",
              "  </style>\n",
              "\n",
              "      <script>\n",
              "        const buttonEl =\n",
              "          document.querySelector('#df-e1ac99cb-c55b-40ad-89a6-45ec66941876 button.colab-df-convert');\n",
              "        buttonEl.style.display =\n",
              "          google.colab.kernel.accessAllowed ? 'block' : 'none';\n",
              "\n",
              "        async function convertToInteractive(key) {\n",
              "          const element = document.querySelector('#df-e1ac99cb-c55b-40ad-89a6-45ec66941876');\n",
              "          const dataTable =\n",
              "            await google.colab.kernel.invokeFunction('convertToInteractive',\n",
              "                                                     [key], {});\n",
              "          if (!dataTable) return;\n",
              "\n",
              "          const docLinkHtml = 'Like what you see? Visit the ' +\n",
              "            '<a target=\"_blank\" href=https://colab.research.google.com/notebooks/data_table.ipynb>data table notebook</a>'\n",
              "            + ' to learn more about interactive tables.';\n",
              "          element.innerHTML = '';\n",
              "          dataTable['output_type'] = 'display_data';\n",
              "          await google.colab.output.renderOutput(dataTable, element);\n",
              "          const docLink = document.createElement('div');\n",
              "          docLink.innerHTML = docLinkHtml;\n",
              "          element.appendChild(docLink);\n",
              "        }\n",
              "      </script>\n",
              "    </div>\n",
              "  </div>\n",
              "  "
            ]
          },
          "metadata": {},
          "execution_count": 12
        }
      ],
      "source": [
        "data.head()"
      ]
    },
    {
      "cell_type": "markdown",
      "metadata": {
        "id": "AidJqIclyKiu"
      },
      "source": [
        "The dataset I am using is spam related data, which is useful for classification tasks. But I'm using one column\n",
        "from the dataset that is \"**Test**\" column."
      ]
    },
    {
      "cell_type": "code",
      "execution_count": 13,
      "metadata": {
        "colab": {
          "base_uri": "https://localhost:8080/"
        },
        "id": "If1dWYo0yHX9",
        "outputId": "7f615240-62a5-402a-ac27-b6f6ffbed8a4"
      },
      "outputs": [
        {
          "output_type": "execute_result",
          "data": {
            "text/plain": [
              "0"
            ]
          },
          "metadata": {},
          "execution_count": 13
        }
      ],
      "source": [
        "data['Text'].isnull().sum()"
      ]
    },
    {
      "cell_type": "markdown",
      "metadata": {
        "id": "vQWwWPP9zOkn"
      },
      "source": [
        "**Cleaning the data**\n",
        "We can see they are some unwanted words and characters in it, which are not useful to model and also decrease our model accuracy"
      ]
    },
    {
      "cell_type": "code",
      "execution_count": 14,
      "metadata": {
        "id": "ujRpbvgCzBKq"
      },
      "outputs": [],
      "source": [
        "data['Text'] = data['Text'].apply(lambda x: x.replace(u'\\xa0',u' '))\n",
        "data['Text'] = data['Text'].apply(lambda x: x.replace('\\u200a',' '))"
      ]
    },
    {
      "cell_type": "code",
      "execution_count": 15,
      "metadata": {
        "id": "zYuzmlTzmhxM"
      },
      "outputs": [],
      "source": [
        "data = np.array(data['Text'])"
      ]
    },
    {
      "cell_type": "markdown",
      "metadata": {
        "id": "n4PzYdW00fi-"
      },
      "source": [
        ""
      ]
    },
    {
      "cell_type": "code",
      "execution_count": 16,
      "metadata": {
        "colab": {
          "base_uri": "https://localhost:8080/"
        },
        "id": "AmMUGh16zr1D",
        "outputId": "d2442232-df01-4e5b-d146-1968f9e89f86"
      },
      "outputs": [
        {
          "output_type": "stream",
          "name": "stdout",
          "text": [
            "words count:  8920\n",
            "\n",
            "\n",
            "Word indexes: 8921\n"
          ]
        }
      ],
      "source": [
        "tokenizer = Tokenizer(oov_token='<oov>')\n",
        "tokenizer.fit_on_texts(data)\n",
        "totalWords = len(tokenizer.word_index) + 1\n",
        "\n",
        "print(\"words count: \", len(tokenizer.word_counts))\n",
        "print('\\n\\nWord indexes:', len(tokenizer.word_index))"
      ]
    },
    {
      "cell_type": "code",
      "execution_count": 17,
      "metadata": {
        "id": "Y5hJlL8a5BoW"
      },
      "outputs": [],
      "source": [
        "sequence = tokenizer.texts_to_sequences(data)"
      ]
    },
    {
      "cell_type": "code",
      "execution_count": 18,
      "metadata": {
        "id": "Y0pP2ANkkq1N"
      },
      "outputs": [],
      "source": [
        "input_seq = []\n",
        "for i in sequence:\n",
        "    for j in range(1, len(i)):\n",
        "        N_gram = i[:j+1]\n",
        "        input_seq.append(N_gram)"
      ]
    },
    {
      "cell_type": "code",
      "execution_count": 19,
      "metadata": {
        "id": "vKocqoc_FaBO"
      },
      "outputs": [],
      "source": [
        "max_seq = max([len(i) for i in input_seq])\n",
        "\n",
        "new_data = pad_sequences(input_seq, maxlen=max_seq, dtype=np.float32, padding='pre')"
      ]
    },
    {
      "cell_type": "code",
      "execution_count": 20,
      "metadata": {
        "colab": {
          "base_uri": "https://localhost:8080/"
        },
        "id": "nhh2zmLRFc_9",
        "outputId": "4680bd9d-c5fd-4841-95ac-6d4ea25913b3"
      },
      "outputs": [
        {
          "output_type": "execute_result",
          "data": {
            "text/plain": [
              "array([  0.,   0.,   0.,   0.,   0.,   0.,   0.,   0.,   0.,   0.,   0.,\n",
              "         0.,   0.,   0.,   0.,   0.,   0.,   0.,   0.,   0.,   0.,   0.,\n",
              "         0.,   0.,   0.,   0.,   0.,   0.,   0.,   0.,   0.,   0.,   0.,\n",
              "         0.,   0.,   0.,   0.,   0.,   0.,   0.,   0.,   0.,   0.,   0.,\n",
              "         0.,   0.,   0.,   0.,   0.,   0.,   0.,   0.,   0.,   0.,   0.,\n",
              "         0.,   0.,   0.,   0.,   0.,   0.,   0.,   0.,   0.,   0.,   0.,\n",
              "         0.,   0.,   0.,   0.,   0.,   0.,   0.,   0.,   0.,   0.,   0.,\n",
              "         0.,   0.,   0.,   0.,   0.,   0.,   0.,   0.,   0.,   0.,   0.,\n",
              "         0.,   0.,   0.,   0.,   0.,   0.,   0.,   0.,   0.,   0.,   0.,\n",
              "         0.,   0.,   0.,   0.,   0.,   0.,   0.,   0.,   0.,   0.,   0.,\n",
              "         0.,   0.,   0.,   0.,   0.,   0.,   0.,   0.,   0.,   0.,   0.,\n",
              "         0.,   0.,   0.,   0.,   0.,   0.,   0.,   0.,   0.,   0.,   0.,\n",
              "         0.,   0.,   0.,   0.,   0.,   0.,   0.,   0.,   0.,   0.,   0.,\n",
              "         0.,   0.,   0.,   0.,   0.,   0.,   0.,   0.,   0.,   0.,   0.,\n",
              "         0.,   0.,   0.,   0.,   0.,   0.,   0.,   0.,   0.,   0.,   0.,\n",
              "         0.,   0.,   0.,   0.,   0.,   0.,   0.,   0.,   0.,   0.,   0.,\n",
              "         0.,   0.,   0.,   0.,   0.,   0.,   0.,   0.,   0.,   0.,   0.,\n",
              "        51., 470.], dtype=float32)"
            ]
          },
          "metadata": {},
          "execution_count": 20
        }
      ],
      "source": [
        "new_data[0]"
      ]
    },
    {
      "cell_type": "code",
      "execution_count": 21,
      "metadata": {
        "id": "Bsja66Y7kZ1Z"
      },
      "outputs": [],
      "source": [
        "features, labels = new_data[:, :-1], new_data[:, -1]\n",
        "labels = to_categorical(labels, num_classes=totalWords)"
      ]
    },
    {
      "cell_type": "code",
      "execution_count": 22,
      "metadata": {
        "colab": {
          "base_uri": "https://localhost:8080/"
        },
        "id": "qRYElQ0rkZ4R",
        "outputId": "302dcde4-8a3c-480b-f2fd-4866af86fc4f"
      },
      "outputs": [
        {
          "output_type": "stream",
          "name": "stdout",
          "text": [
            "82439 82439\n"
          ]
        }
      ],
      "source": [
        "print(len(features), len(labels))"
      ]
    },
    {
      "cell_type": "code",
      "execution_count": 23,
      "metadata": {
        "id": "rkCRYyEmkZ6-"
      },
      "outputs": [],
      "source": [
        "model = Sequential()\n",
        "model.add(Embedding(totalWords, 150, input_length = max_seq-1))\n",
        "model.add(Bidirectional(LSTM(200)))\n",
        "model.add(Dense(totalWords, activation='softmax'))\n",
        "model.compile(loss='categorical_crossentropy', optimizer='adam', metrics=['accuracy'])"
      ]
    },
    {
      "cell_type": "code",
      "execution_count": 24,
      "metadata": {
        "colab": {
          "base_uri": "https://localhost:8080/"
        },
        "id": "7AAzirHBkZ9B",
        "outputId": "340ed9e7-17cd-42b3-aacc-debb81caa727"
      },
      "outputs": [
        {
          "output_type": "stream",
          "name": "stdout",
          "text": [
            "Epoch 1/75\n",
            "2577/2577 [==============================] - 73s 25ms/step - loss: 6.8203 - accuracy: 0.0491\n",
            "Epoch 2/75\n",
            "2577/2577 [==============================] - 66s 26ms/step - loss: 5.7566 - accuracy: 0.1142\n",
            "Epoch 3/75\n",
            "2577/2577 [==============================] - 67s 26ms/step - loss: 4.9656 - accuracy: 0.1795\n",
            "Epoch 4/75\n",
            "2577/2577 [==============================] - 69s 27ms/step - loss: 4.3145 - accuracy: 0.2419\n",
            "Epoch 5/75\n",
            "2577/2577 [==============================] - 69s 27ms/step - loss: 3.7624 - accuracy: 0.2994\n",
            "Epoch 6/75\n",
            "2577/2577 [==============================] - 69s 27ms/step - loss: 3.2893 - accuracy: 0.3620\n",
            "Epoch 7/75\n",
            "2577/2577 [==============================] - 69s 27ms/step - loss: 2.8821 - accuracy: 0.4248\n",
            "Epoch 8/75\n",
            "2577/2577 [==============================] - 69s 27ms/step - loss: 2.5361 - accuracy: 0.4848\n",
            "Epoch 9/75\n",
            "2577/2577 [==============================] - 69s 27ms/step - loss: 2.2413 - accuracy: 0.5355\n",
            "Epoch 10/75\n",
            "2577/2577 [==============================] - 69s 27ms/step - loss: 1.9892 - accuracy: 0.5803\n",
            "Epoch 11/75\n",
            "2577/2577 [==============================] - 68s 26ms/step - loss: 1.7701 - accuracy: 0.6237\n",
            "Epoch 12/75\n",
            "2577/2577 [==============================] - 69s 27ms/step - loss: 1.5797 - accuracy: 0.6610\n",
            "Epoch 13/75\n",
            "2577/2577 [==============================] - 68s 27ms/step - loss: 1.4103 - accuracy: 0.6949\n",
            "Epoch 14/75\n",
            "2577/2577 [==============================] - 68s 27ms/step - loss: 1.2672 - accuracy: 0.7247\n",
            "Epoch 15/75\n",
            "2577/2577 [==============================] - 69s 27ms/step - loss: 1.1390 - accuracy: 0.7536\n",
            "Epoch 16/75\n",
            "2577/2577 [==============================] - 68s 27ms/step - loss: 1.0294 - accuracy: 0.7750\n",
            "Epoch 17/75\n",
            "2577/2577 [==============================] - 68s 26ms/step - loss: 0.9331 - accuracy: 0.7959\n",
            "Epoch 18/75\n",
            "2577/2577 [==============================] - 68s 27ms/step - loss: 0.8488 - accuracy: 0.8139\n",
            "Epoch 19/75\n",
            "2577/2577 [==============================] - 68s 27ms/step - loss: 0.7790 - accuracy: 0.8285\n",
            "Epoch 20/75\n",
            "2577/2577 [==============================] - 68s 26ms/step - loss: 0.7150 - accuracy: 0.8430\n",
            "Epoch 21/75\n",
            "2577/2577 [==============================] - 68s 26ms/step - loss: 0.6631 - accuracy: 0.8530\n",
            "Epoch 22/75\n",
            "2577/2577 [==============================] - 67s 26ms/step - loss: 0.6169 - accuracy: 0.8634\n",
            "Epoch 23/75\n",
            "2577/2577 [==============================] - 69s 27ms/step - loss: 0.5741 - accuracy: 0.8728\n",
            "Epoch 24/75\n",
            "2577/2577 [==============================] - 68s 26ms/step - loss: 0.5450 - accuracy: 0.8792\n",
            "Epoch 25/75\n",
            "2577/2577 [==============================] - 68s 26ms/step - loss: 0.5150 - accuracy: 0.8846\n",
            "Epoch 26/75\n",
            "2577/2577 [==============================] - 69s 27ms/step - loss: 0.4930 - accuracy: 0.8900\n",
            "Epoch 27/75\n",
            "2577/2577 [==============================] - 68s 26ms/step - loss: 0.4701 - accuracy: 0.8933\n",
            "Epoch 28/75\n",
            "2577/2577 [==============================] - 69s 27ms/step - loss: 0.4562 - accuracy: 0.8958\n",
            "Epoch 29/75\n",
            "2577/2577 [==============================] - 69s 27ms/step - loss: 0.4423 - accuracy: 0.8972\n",
            "Epoch 30/75\n",
            "2577/2577 [==============================] - 67s 26ms/step - loss: 0.4286 - accuracy: 0.9004\n",
            "Epoch 31/75\n",
            "2577/2577 [==============================] - 68s 26ms/step - loss: 0.4150 - accuracy: 0.9038\n",
            "Epoch 32/75\n",
            "2577/2577 [==============================] - 67s 26ms/step - loss: 0.4076 - accuracy: 0.9043\n",
            "Epoch 33/75\n",
            "2577/2577 [==============================] - 67s 26ms/step - loss: 0.4032 - accuracy: 0.9041\n",
            "Epoch 34/75\n",
            "2577/2577 [==============================] - 68s 26ms/step - loss: 0.3929 - accuracy: 0.9063\n",
            "Epoch 35/75\n",
            "2577/2577 [==============================] - 68s 26ms/step - loss: 0.3895 - accuracy: 0.9063\n",
            "Epoch 36/75\n",
            "2577/2577 [==============================] - 68s 26ms/step - loss: 0.3824 - accuracy: 0.9069\n",
            "Epoch 37/75\n",
            "2577/2577 [==============================] - 68s 26ms/step - loss: 0.3791 - accuracy: 0.9081\n",
            "Epoch 38/75\n",
            "2577/2577 [==============================] - 68s 26ms/step - loss: 0.3771 - accuracy: 0.9071\n",
            "Epoch 39/75\n",
            "2577/2577 [==============================] - 67s 26ms/step - loss: 0.3695 - accuracy: 0.9094\n",
            "Epoch 40/75\n",
            "2577/2577 [==============================] - 67s 26ms/step - loss: 0.3705 - accuracy: 0.9081\n",
            "Epoch 41/75\n",
            "2577/2577 [==============================] - 67s 26ms/step - loss: 0.3665 - accuracy: 0.9095\n",
            "Epoch 42/75\n",
            "2577/2577 [==============================] - 67s 26ms/step - loss: 0.3643 - accuracy: 0.9089\n",
            "Epoch 43/75\n",
            "2577/2577 [==============================] - 67s 26ms/step - loss: 0.3579 - accuracy: 0.9098\n",
            "Epoch 44/75\n",
            "2577/2577 [==============================] - 67s 26ms/step - loss: 0.3592 - accuracy: 0.9092\n",
            "Epoch 45/75\n",
            "2577/2577 [==============================] - 67s 26ms/step - loss: 0.3598 - accuracy: 0.9092\n",
            "Epoch 46/75\n",
            "2577/2577 [==============================] - 67s 26ms/step - loss: 0.3555 - accuracy: 0.9096\n",
            "Epoch 47/75\n",
            "2577/2577 [==============================] - 68s 27ms/step - loss: 0.3538 - accuracy: 0.9095\n",
            "Epoch 48/75\n",
            "2577/2577 [==============================] - 70s 27ms/step - loss: 0.3492 - accuracy: 0.9107\n",
            "Epoch 49/75\n",
            "2577/2577 [==============================] - 69s 27ms/step - loss: 0.3510 - accuracy: 0.9099\n",
            "Epoch 50/75\n",
            "2577/2577 [==============================] - 68s 27ms/step - loss: 0.3518 - accuracy: 0.9091\n",
            "Epoch 51/75\n",
            "2577/2577 [==============================] - 68s 26ms/step - loss: 0.3535 - accuracy: 0.9084\n",
            "Epoch 52/75\n",
            "2577/2577 [==============================] - 69s 27ms/step - loss: 0.3469 - accuracy: 0.9102\n",
            "Epoch 53/75\n",
            "2577/2577 [==============================] - 68s 26ms/step - loss: 0.3466 - accuracy: 0.9102\n",
            "Epoch 54/75\n",
            "2577/2577 [==============================] - 68s 27ms/step - loss: 0.3465 - accuracy: 0.9101\n",
            "Epoch 55/75\n",
            "2577/2577 [==============================] - 67s 26ms/step - loss: 0.3462 - accuracy: 0.9097\n",
            "Epoch 56/75\n",
            "2577/2577 [==============================] - 68s 26ms/step - loss: 0.3469 - accuracy: 0.9092\n",
            "Epoch 57/75\n",
            "2577/2577 [==============================] - 68s 26ms/step - loss: 0.3522 - accuracy: 0.9084\n",
            "Epoch 58/75\n",
            "2577/2577 [==============================] - 67s 26ms/step - loss: 0.3421 - accuracy: 0.9100\n",
            "Epoch 59/75\n",
            "2577/2577 [==============================] - 68s 26ms/step - loss: 0.3419 - accuracy: 0.9106\n",
            "Epoch 60/75\n",
            "2577/2577 [==============================] - 67s 26ms/step - loss: 0.3431 - accuracy: 0.9098\n",
            "Epoch 61/75\n",
            "2577/2577 [==============================] - 67s 26ms/step - loss: 0.3432 - accuracy: 0.9093\n",
            "Epoch 62/75\n",
            "2577/2577 [==============================] - 68s 26ms/step - loss: 0.3453 - accuracy: 0.9082\n",
            "Epoch 63/75\n",
            "2577/2577 [==============================] - 67s 26ms/step - loss: 0.3413 - accuracy: 0.9093\n",
            "Epoch 64/75\n",
            "2577/2577 [==============================] - 68s 26ms/step - loss: 0.3479 - accuracy: 0.9079\n",
            "Epoch 65/75\n",
            "2577/2577 [==============================] - 67s 26ms/step - loss: 0.3369 - accuracy: 0.9102\n",
            "Epoch 66/75\n",
            "2577/2577 [==============================] - 68s 26ms/step - loss: 0.3424 - accuracy: 0.9098\n",
            "Epoch 67/75\n",
            "2577/2577 [==============================] - 67s 26ms/step - loss: 0.3419 - accuracy: 0.9086\n",
            "Epoch 68/75\n",
            "2577/2577 [==============================] - 68s 26ms/step - loss: 0.3469 - accuracy: 0.9071\n",
            "Epoch 69/75\n",
            "2577/2577 [==============================] - 68s 26ms/step - loss: 0.3451 - accuracy: 0.9069\n",
            "Epoch 70/75\n",
            "2577/2577 [==============================] - 67s 26ms/step - loss: 0.3372 - accuracy: 0.9099\n",
            "Epoch 71/75\n",
            "2577/2577 [==============================] - 67s 26ms/step - loss: 0.3410 - accuracy: 0.9083\n",
            "Epoch 72/75\n",
            "2577/2577 [==============================] - 68s 26ms/step - loss: 0.3379 - accuracy: 0.9083\n",
            "Epoch 73/75\n",
            "2577/2577 [==============================] - 67s 26ms/step - loss: 0.3474 - accuracy: 0.9062\n",
            "Epoch 74/75\n",
            "2577/2577 [==============================] - 67s 26ms/step - loss: 0.3436 - accuracy: 0.9062\n",
            "Epoch 75/75\n",
            "2577/2577 [==============================] - 67s 26ms/step - loss: 0.3423 - accuracy: 0.9069\n"
          ]
        },
        {
          "output_type": "execute_result",
          "data": {
            "text/plain": [
              "<keras.callbacks.History at 0x7f4a446a0cd0>"
            ]
          },
          "metadata": {},
          "execution_count": 24
        }
      ],
      "source": [
        "model.fit(features, labels, epochs=75, verbose=1)"
      ]
    },
    {
      "cell_type": "code",
      "source": [
        "seed_text = \"I'm really not up\"\n",
        "next_words = 2\n",
        "for _ in range(next_words):\n",
        "    token_list = tokenizer.texts_to_sequences([seed_text])[0]\n",
        "    token_list = pad_sequences([token_list], maxlen=max_seq-1, padding='pre')\n",
        "    predicted = model.predict(token_list, verbose=0)\n",
        "    predicted= np.argmax(predicted,axis=1)\n",
        "    output_word = \"\"\n",
        "    for word, index in tokenizer.word_index.items():\n",
        "        if index == predicted:\n",
        "            output_word = word\n",
        "            break\n",
        "    seed_text += \" \" + output_word\n",
        "print(seed_text)"
      ],
      "metadata": {
        "colab": {
          "base_uri": "https://localhost:8080/"
        },
        "id": "2q9iVdBWW90F",
        "outputId": "ebdd0bfd-8e07-4fb3-ea64-9b6c40d3c0ca"
      },
      "execution_count": 47,
      "outputs": [
        {
          "output_type": "stream",
          "name": "stdout",
          "text": [
            "I'm really not up to it\n"
          ]
        }
      ]
    },
    {
      "cell_type": "code",
      "source": [
        "data[88]"
      ],
      "metadata": {
        "colab": {
          "base_uri": "https://localhost:8080/",
          "height": 35
        },
        "id": "gH80ssd2W9v9",
        "outputId": "f9f16b57-5830-4830-9de7-ded1ca445706"
      },
      "execution_count": 46,
      "outputs": [
        {
          "output_type": "execute_result",
          "data": {
            "text/plain": [
              "\"I'm really not up to it still tonight babe\""
            ],
            "application/vnd.google.colaboratory.intrinsic+json": {
              "type": "string"
            }
          },
          "metadata": {},
          "execution_count": 46
        }
      ]
    },
    {
      "cell_type": "code",
      "source": [
        ""
      ],
      "metadata": {
        "id": "ELZ3CmRPW9dt"
      },
      "execution_count": null,
      "outputs": []
    }
  ],
  "metadata": {
    "accelerator": "GPU",
    "colab": {
      "name": "NextWord_Prediction.ipynb",
      "provenance": [],
      "collapsed_sections": []
    },
    "gpuClass": "standard",
    "kernelspec": {
      "display_name": "Python 3",
      "name": "python3"
    },
    "language_info": {
      "name": "python"
    }
  },
  "nbformat": 4,
  "nbformat_minor": 0
}